{
  "nbformat": 4,
  "nbformat_minor": 0,
  "metadata": {
    "colab": {
      "name": "cleanify",
      "provenance": [],
      "collapsed_sections": [],
      "mount_file_id": "1qzHut4r_oBJvwH6TcL6i7RxZAtwMNEXA",
      "authorship_tag": "ABX9TyOL9aBrOdlchRjReycPi0lB",
      "include_colab_link": true
    },
    "kernelspec": {
      "name": "python3",
      "display_name": "Python 3"
    },
    "language_info": {
      "name": "python"
    },
    "accelerator": "GPU"
  },
  "cells": [
    {
      "cell_type": "markdown",
      "metadata": {
        "id": "view-in-github",
        "colab_type": "text"
      },
      "source": [
        "<a href=\"https://colab.research.google.com/github/howlium/cleanify/blob/Comments/cleanify.ipynb\" target=\"_parent\"><img src=\"https://colab.research.google.com/assets/colab-badge.svg\" alt=\"Open In Colab\"/></a>"
      ]
    },
    {
      "cell_type": "code",
      "metadata": {
        "id": "GT9SDsZvwEqb"
      },
      "source": [
        "%cd /content/drive/MyDrive/cleanify\n",
        "print(\"Running dirtify with --jpeg 30\")\n",
        "#!python3 ./dirtify_exp.py --jpeg 30\n",
        "\n",
        "print(\"Running dirtify with --noise 25\")\n",
        "#!python3 ./dirtify_exp.py --noise 25\n",
        "\n",
        "print(\"Running dirtify with --blur 15\")\n",
        "#!python3 ./dirtify_exp.py --blur 15\n",
        "\n",
        "print(\"Running dirtify with --olus\")\n",
        "#!python3 ./dirtify_exp.py --plus\n",
        "\n",
        "print(\"Running cleanify\")\n",
        "import cleanify.cleanify as cfy\n",
        "import importlib\n",
        "importlib.reload(cfy)\n",
        "\n",
        "for fx in ['blur15', 'jpeg30', 'noise25.0', 'plus']:\n",
        "  print(f'Running conventional {fx} cleaner')\n",
        "  c = cfy.Cleaner(fx_name=fx)\n",
        "  c.train()\n",
        "  print(f'training loss: {c.get_train_loss()}')\n",
        "  print(f'validation loss: {c.get_val_loss()}')\n",
        "\n",
        "  print(f'Running autoencoder {fx} cleaner')\n",
        "  c = cfy.Cleaner(fx_name=fx, use_autoencoder=True)\n",
        "  c.train()\n",
        "  print(f'training loss: {c.get_train_loss()}')\n",
        "  print(f'validation loss: {c.get_val_loss()}')"
      ],
      "execution_count": null,
      "outputs": []
    }
  ]
}