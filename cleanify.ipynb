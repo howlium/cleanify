{
  "nbformat": 4,
  "nbformat_minor": 0,
  "metadata": {
    "colab": {
      "name": "cleanify",
      "provenance": [],
      "collapsed_sections": [],
      "mount_file_id": "1qzHut4r_oBJvwH6TcL6i7RxZAtwMNEXA",
      "authorship_tag": "ABX9TyO2Z+nNAuTnGoNoaPJVKmSK",
      "include_colab_link": true
    },
    "kernelspec": {
      "name": "python3",
      "display_name": "Python 3"
    },
    "language_info": {
      "name": "python"
    },
    "accelerator": "GPU"
  },
  "cells": [
    {
      "cell_type": "markdown",
      "metadata": {
        "id": "view-in-github",
        "colab_type": "text"
      },
      "source": [
        "<a href=\"https://colab.research.google.com/github/howlium/cleanify/blob/main/cleanify.ipynb\" target=\"_parent\"><img src=\"https://colab.research.google.com/assets/colab-badge.svg\" alt=\"Open In Colab\"/></a>"
      ]
    },
    {
      "cell_type": "code",
      "metadata": {
        "id": "GT9SDsZvwEqb",
        "colab": {
          "base_uri": "https://localhost:8080/"
        },
        "outputId": "b221bdaf-7924-4822-d514-53253e202b58"
      },
      "source": [
        "!git clone https://github.com/howlium/cleanify.git\n",
        "%cd cleanify\n",
        "!pwd\n",
        "print(\"Running dirtify with --jpeg 30\")\n",
        "!python3 ./dirtify.py --jpeg 30\n",
        "\n",
        "print(\"Running dirtify with --noise 25\")\n",
        "!python3 ./dirtify.py --noise 25\n",
        "\n",
        "print(\"Running dirtify with --blur 15\")\n",
        "!python3 ./dirtify.py --blur 15\n",
        "\n",
        "print(\"Running dirtify with --plus\")\n",
        "!python3 ./dirtify.py --plus\n",
        "\n",
        "print(\"Running cleanify\")\n",
        "import cleanify.cleanify as cfy\n",
        "\n",
        "for fx in ['blur15', 'jpeg30', 'noise25.0', 'plus']:\n",
        "  print(f'Running conventional {fx} cleaner')\n",
        "  c = cfy.Cleaner(fx_name=fx)\n",
        "  if fx == 'blur15':\n",
        "    c.train()\n",
        "  print(f'training loss: {c.get_train_loss()}')\n",
        "  print(f'validation loss: {c.get_val_loss()}')\n",
        "\n",
        "  print(f'Running autoencoder {fx} cleaner')\n",
        "  c = cfy.Cleaner(fx_name=fx, use_autoencoder=True)\n",
        "  if fx == 'blur15':\n",
        "    c.train()\n",
        "  print(f'training loss: {c.get_train_loss()}')\n",
        "  print(f'validation loss: {c.get_val_loss()}')"
      ],
      "execution_count": null,
      "outputs": [
        {
          "output_type": "stream",
          "text": [
          ],
          "name": "stdout"
        }
      ]
    }
  ]
}
