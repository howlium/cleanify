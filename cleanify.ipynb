{
  "nbformat": 4,
  "nbformat_minor": 0,
  "metadata": {
    "colab": {
      "name": "cleanify",
      "provenance": [],
      "collapsed_sections": [],
      "mount_file_id": "1qzHut4r_oBJvwH6TcL6i7RxZAtwMNEXA",
      "authorship_tag": "ABX9TyOexBmW91xRHC+go09+qVE/",
      "include_colab_link": true
    },
    "kernelspec": {
      "name": "python3",
      "display_name": "Python 3"
    },
    "language_info": {
      "name": "python"
    },
    "accelerator": "GPU"
  },
  "cells": [
    {
      "cell_type": "markdown",
      "metadata": {
        "id": "view-in-github",
        "colab_type": "text"
      },
      "source": [
        "<a href=\"https://colab.research.google.com/github/howlium/cleanify/blob/master/cleanify.ipynb\" target=\"_parent\"><img src=\"https://colab.research.google.com/assets/colab-badge.svg\" alt=\"Open In Colab\"/></a>"
      ]
    },
    {
      "cell_type": "code",
      "metadata": {
        "id": "GT9SDsZvwEqb",
        "colab": {
          "base_uri": "https://localhost:8080/"
        },
        "outputId": "86c7ff36-9a56-46f4-9b26-10479bea3f60"
      },
      "source": [
        "#print(\"Running cleanify\")\n",
        "#!python3 ./cleanify.py\n",
        "#print()\n",
        "\n",
        "!pwd\n",
        "!ls\n",
        "#print(\"Running cleanify_ae\")\n",
        "#!python3 ./cleanify_ae.py\n"
      ],
      "execution_count": 17,
      "outputs": [
        {
          "output_type": "stream",
          "text": [
            "/content/drive/MyDrive/cleanify\n",
            "blur_dataset_scaled  conv_ae.py\t\tinput\t\tsharp\n",
            "cleanify_ae.py\t     defocused_blurred\tmotion_blurred\ttest.py\n",
            "cleanify.py\t     dirtify.py\t\toutput\n"
          ],
          "name": "stdout"
        }
      ]
    },
    {
      "cell_type": "code",
      "metadata": {
        "id": "P5oB6B2VlE69"
      },
      "source": [
        ""
      ],
      "execution_count": 1,
      "outputs": []
    }
  ]
}